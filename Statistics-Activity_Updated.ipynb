{
 "cells": [
  {
   "cell_type": "code",
   "execution_count": 1,
   "metadata": {
    "ExecuteTime": {
     "end_time": "2020-10-24T10:33:30.436252Z",
     "start_time": "2020-10-24T10:33:18.436940Z"
    },
    "id": "trh_SM_hyoQi"
   },
   "outputs": [],
   "source": [
    "import pandas as pd\n",
    "import numpy as np\n",
    "import random\n",
    "import matplotlib.pyplot as plt\n",
    "%matplotlib inline"
   ]
  },
  {
   "cell_type": "markdown",
   "metadata": {
    "id": "VZfthLAWyoQy"
   },
   "source": [
    "## Take a look at the Data"
   ]
  },
  {
   "cell_type": "markdown",
   "metadata": {
    "id": "eobs2M7NyoQ3"
   },
   "source": [
    "a. Read in the dataset and take a look at the top few rows "
   ]
  },
  {
   "cell_type": "code",
   "execution_count": 2,
   "metadata": {
    "id": "uRsvqzNKyoQ5"
   },
   "outputs": [
    {
     "data": {
      "text/html": [
       "<div>\n",
       "<style scoped>\n",
       "    .dataframe tbody tr th:only-of-type {\n",
       "        vertical-align: middle;\n",
       "    }\n",
       "\n",
       "    .dataframe tbody tr th {\n",
       "        vertical-align: top;\n",
       "    }\n",
       "\n",
       "    .dataframe thead th {\n",
       "        text-align: right;\n",
       "    }\n",
       "</style>\n",
       "<table border=\"1\" class=\"dataframe\">\n",
       "  <thead>\n",
       "    <tr style=\"text-align: right;\">\n",
       "      <th></th>\n",
       "      <th>Number</th>\n",
       "      <th>City</th>\n",
       "      <th>Gender</th>\n",
       "      <th>Age</th>\n",
       "      <th>Income</th>\n",
       "      <th>Illness</th>\n",
       "    </tr>\n",
       "  </thead>\n",
       "  <tbody>\n",
       "    <tr>\n",
       "      <th>0</th>\n",
       "      <td>1</td>\n",
       "      <td>Dallas</td>\n",
       "      <td>Male</td>\n",
       "      <td>41</td>\n",
       "      <td>40367.0</td>\n",
       "      <td>No</td>\n",
       "    </tr>\n",
       "    <tr>\n",
       "      <th>1</th>\n",
       "      <td>2</td>\n",
       "      <td>Dallas</td>\n",
       "      <td>Male</td>\n",
       "      <td>54</td>\n",
       "      <td>45084.0</td>\n",
       "      <td>No</td>\n",
       "    </tr>\n",
       "    <tr>\n",
       "      <th>2</th>\n",
       "      <td>3</td>\n",
       "      <td>Dallas</td>\n",
       "      <td>Male</td>\n",
       "      <td>42</td>\n",
       "      <td>52483.0</td>\n",
       "      <td>No</td>\n",
       "    </tr>\n",
       "    <tr>\n",
       "      <th>3</th>\n",
       "      <td>4</td>\n",
       "      <td>Dallas</td>\n",
       "      <td>Male</td>\n",
       "      <td>40</td>\n",
       "      <td>40941.0</td>\n",
       "      <td>No</td>\n",
       "    </tr>\n",
       "    <tr>\n",
       "      <th>4</th>\n",
       "      <td>5</td>\n",
       "      <td>Dallas</td>\n",
       "      <td>Male</td>\n",
       "      <td>46</td>\n",
       "      <td>50289.0</td>\n",
       "      <td>No</td>\n",
       "    </tr>\n",
       "  </tbody>\n",
       "</table>\n",
       "</div>"
      ],
      "text/plain": [
       "   Number    City Gender  Age   Income Illness\n",
       "0       1  Dallas   Male   41  40367.0      No\n",
       "1       2  Dallas   Male   54  45084.0      No\n",
       "2       3  Dallas   Male   42  52483.0      No\n",
       "3       4  Dallas   Male   40  40941.0      No\n",
       "4       5  Dallas   Male   46  50289.0      No"
      ]
     },
     "execution_count": 2,
     "metadata": {},
     "output_type": "execute_result"
    }
   ],
   "source": [
    "df=pd.read_csv('toy_dataset.csv')\n",
    "df.head()"
   ]
  },
  {
   "cell_type": "markdown",
   "metadata": {
    "id": "1KwOLhfvyoQ6"
   },
   "source": [
    "b. Use the below cell to find the number of rows in the dataset."
   ]
  },
  {
   "cell_type": "code",
   "execution_count": 3,
   "metadata": {
    "id": "mncWTkkwyoQ8"
   },
   "outputs": [
    {
     "data": {
      "text/plain": [
       "150000"
      ]
     },
     "execution_count": 3,
     "metadata": {},
     "output_type": "execute_result"
    }
   ],
   "source": [
    "rows=df.shape[0]\n",
    "rows"
   ]
  },
  {
   "cell_type": "markdown",
   "metadata": {
    "id": "BvU-SuGQyoQ-"
   },
   "source": [
    "c. check the unique values for city, gender"
   ]
  },
  {
   "cell_type": "code",
   "execution_count": 4,
   "metadata": {
    "id": "_A3H2kZbyoRB"
   },
   "outputs": [
    {
     "data": {
      "text/plain": [
       "['Dallas',\n",
       " 'New York City',\n",
       " 'Los Angeles',\n",
       " 'Mountain View',\n",
       " 'Boston',\n",
       " 'Washington D.C.',\n",
       " 'San Diego',\n",
       " 'Austin']"
      ]
     },
     "execution_count": 4,
     "metadata": {},
     "output_type": "execute_result"
    }
   ],
   "source": [
    "list(df.City.unique())"
   ]
  },
  {
   "cell_type": "code",
   "execution_count": 5,
   "metadata": {},
   "outputs": [
    {
     "data": {
      "text/plain": [
       "['Male', 'Female']"
      ]
     },
     "execution_count": 5,
     "metadata": {},
     "output_type": "execute_result"
    }
   ],
   "source": [
    "list(df.Gender.unique())"
   ]
  },
  {
   "cell_type": "markdown",
   "metadata": {
    "id": "hHzaFTQoyoRD"
   },
   "source": [
    "d. Plot the distributions of `Income`, and `Age` variables."
   ]
  },
  {
   "cell_type": "code",
   "execution_count": 6,
   "metadata": {
    "id": "YnSI424PyoRF"
   },
   "outputs": [
    {
     "data": {
      "image/png": "[encoded data removed]",
      "text/plain": [
       "<Figure size 432x288 with 1 Axes>"
      ]
     },
     "metadata": {
      "needs_background": "light"
     },
     "output_type": "display_data"
    }
   ],
   "source": [
    "plt.hist(df.Income);"
   ]
  },
  {
   "cell_type": "code",
   "execution_count": 7,
   "metadata": {},
   "outputs": [
    {
     "data": {
      "image/png": "[encoded data removed]",
      "text/plain": [
       "<Figure size 432x288 with 1 Axes>"
      ]
     },
     "metadata": {
      "needs_background": "light"
     },
     "output_type": "display_data"
    }
   ],
   "source": [
    "plt.hist(df.Age);"
   ]
  },
  {
   "cell_type": "markdown",
   "metadata": {
    "id": "LgQEoO_gyoRG"
   },
   "source": [
    "e. check the missing values in the dataset."
   ]
  },
  {
   "cell_type": "code",
   "execution_count": 8,
   "metadata": {},
   "outputs": [
    {
     "data": {
      "text/plain": [
       "Number     0\n",
       "City       0\n",
       "Gender     0\n",
       "Age        0\n",
       "Income     0\n",
       "Illness    0\n",
       "dtype: int64"
      ]
     },
     "execution_count": 8,
     "metadata": {},
     "output_type": "execute_result"
    }
   ],
   "source": [
    "df.isnull().sum()"
   ]
  },
  {
   "cell_type": "markdown",
   "metadata": {
    "id": "K7fjXZaFyoRI"
   },
   "source": [
    "## Descriptive Statistics"
   ]
  },
  {
   "cell_type": "markdown",
   "metadata": {
    "id": "eLcWSmCryoRK"
   },
   "source": [
    "a. Which Column/Feature is considered Quantitative data ? is it Continous or Discrete ?"
   ]
  },
  {
   "cell_type": "markdown",
   "metadata": {},
   "source": [
    "**Age,Income:Continous**"
   ]
  },
  {
   "cell_type": "markdown",
   "metadata": {
    "id": "7_-q5XboyoRN"
   },
   "source": [
    "b. Which Column/Feature is considered Categorical data ? is it Ordinal or Nominal ?"
   ]
  },
  {
   "cell_type": "markdown",
   "metadata": {},
   "source": [
    "**City,Gender: Nominal**"
   ]
  },
  {
   "cell_type": "markdown",
   "metadata": {
    "id": "8mTP6t7iyoRP"
   },
   "source": [
    "c. For the Quantitative Feature, Calculate the below:\n",
    "- Mean\n",
    "- Median\n",
    "- Mod\n",
    "- Range\n",
    "- IQR\n",
    "- std"
   ]
  },
  {
   "cell_type": "code",
   "execution_count": 9,
   "metadata": {
    "id": "hGmb7aAsyoRR"
   },
   "outputs": [
    {
     "data": {
      "text/html": [
       "<div>\n",
       "<style scoped>\n",
       "    .dataframe tbody tr th:only-of-type {\n",
       "        vertical-align: middle;\n",
       "    }\n",
       "\n",
       "    .dataframe tbody tr th {\n",
       "        vertical-align: top;\n",
       "    }\n",
       "\n",
       "    .dataframe thead th {\n",
       "        text-align: right;\n",
       "    }\n",
       "</style>\n",
       "<table border=\"1\" class=\"dataframe\">\n",
       "  <thead>\n",
       "    <tr style=\"text-align: right;\">\n",
       "      <th></th>\n",
       "      <th>Number</th>\n",
       "      <th>Age</th>\n",
       "      <th>Income</th>\n",
       "    </tr>\n",
       "  </thead>\n",
       "  <tbody>\n",
       "    <tr>\n",
       "      <th>count</th>\n",
       "      <td>150000.000000</td>\n",
       "      <td>150000.000000</td>\n",
       "      <td>150000.000000</td>\n",
       "    </tr>\n",
       "    <tr>\n",
       "      <th>mean</th>\n",
       "      <td>75000.500000</td>\n",
       "      <td>44.950200</td>\n",
       "      <td>91252.798273</td>\n",
       "    </tr>\n",
       "    <tr>\n",
       "      <th>std</th>\n",
       "      <td>43301.414527</td>\n",
       "      <td>11.572486</td>\n",
       "      <td>24989.500948</td>\n",
       "    </tr>\n",
       "    <tr>\n",
       "      <th>min</th>\n",
       "      <td>1.000000</td>\n",
       "      <td>25.000000</td>\n",
       "      <td>-654.000000</td>\n",
       "    </tr>\n",
       "    <tr>\n",
       "      <th>25%</th>\n",
       "      <td>37500.750000</td>\n",
       "      <td>35.000000</td>\n",
       "      <td>80867.750000</td>\n",
       "    </tr>\n",
       "    <tr>\n",
       "      <th>50%</th>\n",
       "      <td>75000.500000</td>\n",
       "      <td>45.000000</td>\n",
       "      <td>93655.000000</td>\n",
       "    </tr>\n",
       "    <tr>\n",
       "      <th>75%</th>\n",
       "      <td>112500.250000</td>\n",
       "      <td>55.000000</td>\n",
       "      <td>104519.000000</td>\n",
       "    </tr>\n",
       "    <tr>\n",
       "      <th>max</th>\n",
       "      <td>150000.000000</td>\n",
       "      <td>65.000000</td>\n",
       "      <td>177157.000000</td>\n",
       "    </tr>\n",
       "  </tbody>\n",
       "</table>\n",
       "</div>"
      ],
      "text/plain": [
       "              Number            Age         Income\n",
       "count  150000.000000  150000.000000  150000.000000\n",
       "mean    75000.500000      44.950200   91252.798273\n",
       "std     43301.414527      11.572486   24989.500948\n",
       "min         1.000000      25.000000    -654.000000\n",
       "25%     37500.750000      35.000000   80867.750000\n",
       "50%     75000.500000      45.000000   93655.000000\n",
       "75%    112500.250000      55.000000  104519.000000\n",
       "max    150000.000000      65.000000  177157.000000"
      ]
     },
     "execution_count": 9,
     "metadata": {},
     "output_type": "execute_result"
    }
   ],
   "source": [
    "df.describe()"
   ]
  },
  {
   "cell_type": "markdown",
   "metadata": {
    "id": "O-hAAxg5yoRX"
   },
   "source": [
    "## Probability"
   ]
  },
  {
   "cell_type": "markdown",
   "metadata": {
    "ExecuteTime": {
     "end_time": "2020-10-24T10:39:42.984930Z",
     "start_time": "2020-10-24T10:39:42.976921Z"
    },
    "id": "1PU9vDYkyoRY"
   },
   "source": [
    "a. The proportion of persons that are `ill`,  and the proportion of persons that are `not ill`."
   ]
  },
  {
   "cell_type": "code",
   "execution_count": 10,
   "metadata": {
    "id": "5ugqVDrWyoRZ"
   },
   "outputs": [
    {
     "data": {
      "text/plain": [
       "0.08092666666666666"
      ]
     },
     "execution_count": 10,
     "metadata": {},
     "output_type": "execute_result"
    }
   ],
   "source": [
    "(df.Illness == 'Yes').mean()"
   ]
  },
  {
   "cell_type": "code",
   "execution_count": 11,
   "metadata": {},
   "outputs": [
    {
     "data": {
      "text/plain": [
       "0.9190733333333333"
      ]
     },
     "execution_count": 11,
     "metadata": {},
     "output_type": "execute_result"
    }
   ],
   "source": [
    "(df.Illness=='No').mean()"
   ]
  },
  {
   "cell_type": "markdown",
   "metadata": {
    "id": "Yjmab06FyoRZ"
   },
   "source": [
    "b. The proportion of persons that are `male`."
   ]
  },
  {
   "cell_type": "code",
   "execution_count": 12,
   "metadata": {
    "id": "4FD0kb2IyoRa"
   },
   "outputs": [
    {
     "data": {
      "text/plain": [
       "0.5586666666666666"
      ]
     },
     "execution_count": 12,
     "metadata": {},
     "output_type": "execute_result"
    }
   ],
   "source": [
    "(df.Gender=='Male').mean()"
   ]
  },
  {
   "cell_type": "markdown",
   "metadata": {
    "id": "CtakgXjOyoRb"
   },
   "source": [
    "c. The proportion of persons that are from `Boston`"
   ]
  },
  {
   "cell_type": "code",
   "execution_count": 13,
   "metadata": {
    "id": "06Xon3JXyoRb"
   },
   "outputs": [
    {
     "data": {
      "text/plain": [
       "0.05534"
      ]
     },
     "execution_count": 13,
     "metadata": {},
     "output_type": "execute_result"
    }
   ],
   "source": [
    "(df.City=='Boston').mean()"
   ]
  },
  {
   "cell_type": "markdown",
   "metadata": {
    "id": "rreH2PNzyoRc"
   },
   "source": [
    "d. The proportion of persons that have `income` from `50000` to `100000`"
   ]
  },
  {
   "cell_type": "code",
   "execution_count": 14,
   "metadata": {
    "id": "UL8lSAOAyoRc"
   },
   "outputs": [
    {
     "data": {
      "text/plain": [
       "0.5659533333333333"
      ]
     },
     "execution_count": 14,
     "metadata": {},
     "output_type": "execute_result"
    }
   ],
   "source": [
    "df.query(\"Income > 50000 and Income <= 100000  \").shape[0]/df.shape[0]"
   ]
  },
  {
   "cell_type": "markdown",
   "metadata": {
    "id": "P1znANPnyoRd"
   },
   "source": [
    "## Conditional Probability"
   ]
  },
  {
   "cell_type": "markdown",
   "metadata": {
    "id": "mKS5FrD3yoRd"
   },
   "source": [
    "a. Given that a person was in `New York City` , what is the probability that he is `ill`?"
   ]
  },
  {
   "cell_type": "code",
   "execution_count": 15,
   "metadata": {
    "id": "MKBbxoagyoRe"
   },
   "outputs": [
    {
     "data": {
      "text/plain": [
       "0.07992923450016896"
      ]
     },
     "execution_count": 15,
     "metadata": {},
     "output_type": "execute_result"
    }
   ],
   "source": [
    "df_NYC=df.query('City==\"New York City\"')\n",
    "(df_NYC.Illness=='Yes').mean()"
   ]
  },
  {
   "cell_type": "markdown",
   "metadata": {
    "ExecuteTime": {
     "end_time": "2020-10-24T10:54:35.467691Z",
     "start_time": "2020-10-24T10:54:35.458706Z"
    },
    "id": "6s6noVXWyoRf"
   },
   "source": [
    "b. Given that a person is `Male` , what is the probability that he is `ill`?"
   ]
  },
  {
   "cell_type": "code",
   "execution_count": 16,
   "metadata": {
    "id": "pGM3FY0_yoRg"
   },
   "outputs": [
    {
     "data": {
      "text/plain": [
       "0.08124105011933175"
      ]
     },
     "execution_count": 16,
     "metadata": {},
     "output_type": "execute_result"
    }
   ],
   "source": [
    "df_male=df.query('Gender ==\"Male\"')\n",
    "(df_male.Illness=='Yes').mean()"
   ]
  },
  {
   "cell_type": "markdown",
   "metadata": {
    "id": "TMeh9EOMyoRg"
   },
   "source": [
    "c. Given that a person is `Female` , what is the probability that she is `ill`?"
   ]
  },
  {
   "cell_type": "code",
   "execution_count": 17,
   "metadata": {
    "id": "JxfAleZpyoRh"
   },
   "outputs": [
    {
     "data": {
      "text/plain": [
       "0.08052870090634441"
      ]
     },
     "execution_count": 17,
     "metadata": {},
     "output_type": "execute_result"
    }
   ],
   "source": [
    "df_female=df.query('Gender==\"Female\"')\n",
    "(df_female.Illness=='Yes').mean()"
   ]
  },
  {
   "cell_type": "markdown",
   "metadata": {
    "id": "_Wjp4OOCyoRi"
   },
   "source": [
    "d. Given that a person is `male and from Dallas`, what is the probability that he is `ill`?"
   ]
  },
  {
   "cell_type": "code",
   "execution_count": 18,
   "metadata": {
    "id": "4_KGKIwdyoRi"
   },
   "outputs": [
    {
     "data": {
      "text/plain": [
       "0.08225777131430649"
      ]
     },
     "execution_count": 18,
     "metadata": {},
     "output_type": "execute_result"
    }
   ],
   "source": [
    "df_male_dallas=df.query('Gender ==\"Male\" & City ==\"Dallas\"')\n",
    "(df_male_dallas.Illness=='Yes').mean()"
   ]
  },
  {
   "cell_type": "markdown",
   "metadata": {
    "id": "c0EH5qBNyoRj"
   },
   "source": [
    "## Bayes rule"
   ]
  },
  {
   "cell_type": "markdown",
   "metadata": {
    "id": "06e5bRJfyoRj"
   },
   "source": [
    "$$ P(A|B) = \\frac{P(B|A) * P(A)}{P(B)} $$\n",
    "\n",
    "                                          "
   ]
  },
  {
   "cell_type": "markdown",
   "metadata": {
    "id": "Ukr1M8QvyoRl"
   },
   "source": [
    "a. What is the probability that a person is from `Boston` given this person is `ill`"
   ]
  },
  {
   "cell_type": "code",
   "execution_count": 19,
   "metadata": {
    "id": "7jRWbh2NyoRl"
   },
   "outputs": [
    {
     "data": {
      "text/plain": [
       "0.056512068539418404"
      ]
     },
     "execution_count": 19,
     "metadata": {},
     "output_type": "execute_result"
    }
   ],
   "source": [
    "df_ill=df.query('Illness==\"Yes\"')\n",
    "(df_ill.City==\"Boston\").mean()"
   ]
  },
  {
   "cell_type": "markdown",
   "metadata": {
    "id": "yWyyJUkZyoRm"
   },
   "source": [
    "b. What is the probability that a person is `female`, given this person is `ill`"
   ]
  },
  {
   "cell_type": "code",
   "execution_count": 20,
   "metadata": {
    "id": "hLpBalKVyoRm"
   },
   "outputs": [
    {
     "data": {
      "text/plain": [
       "0.43916302825603426"
      ]
     },
     "execution_count": 20,
     "metadata": {},
     "output_type": "execute_result"
    }
   ],
   "source": [
    "(df_ill.Gender=='Female').mean()"
   ]
  },
  {
   "cell_type": "code",
   "execution_count": null,
   "metadata": {},
   "outputs": [],
   "source": []
  }
 ],
 "metadata": {
  "colab": {
   "name": "Statistics-Activity_Updated.ipynb",
   "provenance": []
  },
  "hide_input": false,
  "kernelspec": {
   "display_name": "Python 3 (ipykernel)",
   "language": "python",
   "name": "python3"
  },
  "language_info": {
   "codemirror_mode": {
    "name": "ipython",
    "version": 3
   },
   "file_extension": ".py",
   "mimetype": "text/x-python",
   "name": "python",
   "nbconvert_exporter": "python",
   "pygments_lexer": "ipython3",
   "version": "3.9.7"
  }
 },
 "nbformat": 4,
 "nbformat_minor": 1
}
